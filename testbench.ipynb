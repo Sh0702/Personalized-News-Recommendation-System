{
 "cells": [
  {
   "cell_type": "code",
   "execution_count": null,
   "metadata": {},
   "outputs": [
    {
     "data": {
      "text/plain": [
       "True"
      ]
     },
     "execution_count": 1,
     "metadata": {},
     "output_type": "execute_result"
    }
   ],
   "source": [
    "from dotenv import load_dotenv\n",
    "load_dotenv()\n",
    "\n",
    "import pprint\n",
    "pp = pprint.PrettyPrinter(indent=4)"
   ]
  },
  {
   "cell_type": "markdown",
   "metadata": {},
   "source": [
    "## Loading model"
   ]
  },
  {
   "cell_type": "code",
   "execution_count": 8,
   "metadata": {},
   "outputs": [],
   "source": [
    "from langchain.chat_models import init_chat_model\n",
    "llm = init_chat_model(\"llama3-8b-8192\", model_provider=\"groq\")"
   ]
  },
  {
   "cell_type": "markdown",
   "metadata": {},
   "source": [
    "### News api response"
   ]
  },
  {
   "cell_type": "code",
   "execution_count": null,
   "metadata": {},
   "outputs": [],
   "source": [
    "# code from news_search_tool.py\n",
    "\n",
    "import requests\n",
    "import os\n",
    "query = 'IPL 2025'\n",
    "url = \"https://newsdata.io/api/1/news\"\n",
    "params = {\n",
    "    \"q\": query,\n",
    "    \"language\": \"en\",\n",
    "    \"size\": 3,\n",
    "    \"apikey\":os.getenv(\"NEWS_API_KEY\")\n",
    "}\n",
    "response = requests.get(url, params=params)\n",
    "res = response.json()"
   ]
  },
  {
   "cell_type": "code",
   "execution_count": 42,
   "metadata": {},
   "outputs": [
    {
     "data": {
      "text/plain": [
       "'Gujarat Titans skipper Shubman Gill played a mature knock on Sunday as he scored 61* off 43 balls as his side reached a 153-run target set by SunRisers Hyderabad in just 16.3 overs'"
      ]
     },
     "execution_count": 42,
     "metadata": {},
     "output_type": "execute_result"
    }
   ],
   "source": [
    "res['results'][0]['description']"
   ]
  },
  {
   "cell_type": "code",
   "execution_count": 33,
   "metadata": {},
   "outputs": [],
   "source": [
    "from news_search_tool import search_news\n",
    "\n",
    "news_data = search_news('IPL 2025')"
   ]
  },
  {
   "cell_type": "code",
   "execution_count": 41,
   "metadata": {},
   "outputs": [
    {
     "name": "stdout",
     "output_type": "stream",
     "text": [
      "('Mohammed Siraj: From Doubt to Dominance in IPL 2025 - Mohammed Siraj: From '\n",
      " 'Doubt to Dominance in IPL 2025 In the ongoing edition of the Indian Premier '\n",
      " 'League (IPL) 2025, former cricketer-turned-commentator Navjot Singh Sidhu '\n",
      " 'has heaped praise on Mohammed Siraj, the pace spearhead for Gujarat Titans. '\n",
      " \"Siraj has been instrumental in quelling Sunrisers Hyderabad's formidable \"\n",
      " 'batting lineup with his impressive swing bowling.Having faced a tumultuous '\n",
      " \"phase after being dropped from India's Champions Trophy squad due to \"\n",
      " 'ineffective performances in crucial overs, Siraj has emerged with renewed '\n",
      " 'vigor. His quest to reclaim his position in the national team saw him '\n",
      " \"excelling in IPL, rattling opponents' top orders with his tenacity and \"\n",
      " 'skill.Beginning the season with a shaky performance against Punjab Kings, '\n",
      " 'where he gave away 54 runs, Siraj transformed rapidly. His remarkable '\n",
      " \"comeback included dismantling Mumbai Indians' openers and playing a decisive \"\n",
      " 'role in his home city of Bengaluru. His extraordinary showing against '\n",
      " 'Sunrisers Hyderabad, with figures of 4/17, not only earned him the Player of '\n",
      " 'the Match but also solidified his reputation as an exceptional bowler.\\n'\n",
      " 'IPL 2025 MI vs RCB: Mumbai pitch report and Wankhede Stadium key stats - '\n",
      " 'Wankhede Stadium key stats since previous season of IPL - Total Matches: 8; '\n",
      " 'Bat 1st Wins: 4; Bat 2nd wins: 4; Average 1st Innings Score: 179/8; Lowest '\n",
      " 'Total Defended: 169; Highest Target Chased: 197\\n'\n",
      " 'Pittsburgh Pirates to restore MLB legend Roberto Clemente’s No. 21 signboard '\n",
      " 'after family expresses unhappiness - The Pittsburgh Pirates will re-install '\n",
      " \"Roberto Clemente's No. 21 sign on the right field wall at PNC Park after \"\n",
      " 'removing it for an advertisement, which sparked controversy and '\n",
      " 'dissatisfaction from the Clemente family. The team acknowledges the '\n",
      " 'oversight and apologizes for any perceived disrespect.')\n"
     ]
    }
   ],
   "source": [
    "pp.pprint(news_data)"
   ]
  },
  {
   "cell_type": "markdown",
   "metadata": {},
   "source": [
    "## Prompt template\n",
    "#### \"fernandoruiz/information_extraction_for_summarization\""
   ]
  },
  {
   "cell_type": "code",
   "execution_count": null,
   "metadata": {},
   "outputs": [
    {
     "name": "stderr",
     "output_type": "stream",
     "text": [
      "c:\\Users\\Admin\\anaconda3\\envs\\langenv\\lib\\site-packages\\langsmith\\client.py:253: LangSmithMissingAPIKeyWarning: API key must be provided when using hosted LangSmith API\n",
      "  warnings.warn(\n"
     ]
    }
   ],
   "source": [
    "# Create a LANGSMITH_API_KEY in Settings > API Keys\n",
    "from langchain import hub\n",
    "\n",
    "prompt = hub.pull(\"fernandoruiz/information_extraction_for_summarization\")\n",
    "\n",
    "# prompt template\n",
    "'''\n",
    "Please identify if the following news article is related to this topic : {topic}.\n",
    "    [Start news article]:\n",
    "    {article}\n",
    "    [End news article]\n",
    "    If the article is related to the topic, return a summary of the article related to the given topic.\n",
    "    Answer in the most factual way possible. Only use content from the article.\n",
    "    Please return the result in json using the following keys :\n",
    "    \"relevant\"\n",
    "    \"who\"\n",
    "    \"what\"\n",
    "    \"where\"\n",
    "    \"when\"\n",
    "    \"why\"\n",
    "    If the article is not related return : \"relevant\" : false\n",
    "    Answer:\n",
    "'''"
   ]
  },
  {
   "cell_type": "code",
   "execution_count": null,
   "metadata": {},
   "outputs": [
    {
     "data": {
      "text/plain": [
       "AIMessage(content='Here is the JSON response:\\n\\n{\\n\"relevant\": true,\\n\"who\": \"Mohammed Siraj\",\\n\"What\": \"dominance in IPL 2025\",\\n\"where\": \"Gujarat Titans, Sunrisers Hyderabad, and Wankhede Stadium\",\\n\"When\": \"Ongoing edition of IPL 2025\",\\n\"Why\": \"Siraj\\'s impressive swing bowling and tenacity\",\\n\"Extra info\": \"Siraj was praised by Navjot Singh Sidhu and has been instrumental in quelling Sunrisers Hyderabad\\'s batting lineup.\"\\n}\\n\\nNote: The article is related to the topic \"IPL 2025\" as it discusses Mohammed Siraj\\'s performance in the ongoing edition of the Indian Premier League (IPL) 2025.', additional_kwargs={}, response_metadata={'token_usage': {'completion_tokens': 152, 'prompt_tokens': 547, 'total_tokens': 699, 'completion_time': 0.126666667, 'prompt_time': 0.068811847, 'queue_time': 0.16215481799999998, 'total_time': 0.195478514}, 'model_name': 'llama3-8b-8192', 'system_fingerprint': 'fp_179b0f92c9', 'finish_reason': 'stop', 'logprobs': None}, id='run-d0392321-e3cf-40c9-b5e9-43a8f5e4e260-0', usage_metadata={'input_tokens': 547, 'output_tokens': 152, 'total_tokens': 699})"
      ]
     },
     "execution_count": 35,
     "metadata": {},
     "output_type": "execute_result"
    }
   ],
   "source": [
    "# injects the 'topic' and 'article' into the prompt\n",
    "injected_prompt = prompt.invoke({\"topic\": \"IPL 2025\", \"article\": news_data})\n",
    "\n",
    "# invokes the model with the injected prompt\n",
    "answer = llm.invoke(injected_prompt)\n",
    "answer"
   ]
  },
  {
   "cell_type": "code",
   "execution_count": 45,
   "metadata": {},
   "outputs": [
    {
     "name": "stdout",
     "output_type": "stream",
     "text": [
      "('Please identify if the following news article is related to this topic : IPL '\n",
      " '2025.\\n'\n",
      " '    [Start news article]:\\n'\n",
      " '    Mohammed Siraj: From Doubt to Dominance in IPL 2025 - Mohammed Siraj: '\n",
      " 'From Doubt to Dominance in IPL 2025 In the ongoing edition of the Indian '\n",
      " 'Premier League (IPL) 2025, former cricketer-turned-commentator Navjot Singh '\n",
      " 'Sidhu has heaped praise on Mohammed Siraj, the pace spearhead for Gujarat '\n",
      " \"Titans. Siraj has been instrumental in quelling Sunrisers Hyderabad's \"\n",
      " 'formidable batting lineup with his impressive swing bowling.Having faced a '\n",
      " \"tumultuous phase after being dropped from India's Champions Trophy squad due \"\n",
      " 'to ineffective performances in crucial overs, Siraj has emerged with renewed '\n",
      " 'vigor. His quest to reclaim his position in the national team saw him '\n",
      " \"excelling in IPL, rattling opponents' top orders with his tenacity and \"\n",
      " 'skill.Beginning the season with a shaky performance against Punjab Kings, '\n",
      " 'where he gave away 54 runs, Siraj transformed rapidly. His remarkable '\n",
      " \"comeback included dismantling Mumbai Indians' openers and playing a decisive \"\n",
      " 'role in his home city of Bengaluru. His extraordinary showing against '\n",
      " 'Sunrisers Hyderabad, with figures of 4/17, not only earned him the Player of '\n",
      " 'the Match but also solidified his reputation as an exceptional bowler.\\n'\n",
      " 'IPL 2025 MI vs RCB: Mumbai pitch report and Wankhede Stadium key stats - '\n",
      " 'Wankhede Stadium key stats since previous season of IPL - Total Matches: 8; '\n",
      " 'Bat 1st Wins: 4; Bat 2nd wins: 4; Average 1st Innings Score: 179/8; Lowest '\n",
      " 'Total Defended: 169; Highest Target Chased: 197\\n'\n",
      " 'Pittsburgh Pirates to restore MLB legend Roberto Clemente’s No. 21 signboard '\n",
      " 'after family expresses unhappiness - The Pittsburgh Pirates will re-install '\n",
      " \"Roberto Clemente's No. 21 sign on the right field wall at PNC Park after \"\n",
      " 'removing it for an advertisement, which sparked controversy and '\n",
      " 'dissatisfaction from the Clemente family. The team acknowledges the '\n",
      " 'oversight and apologizes for any perceived disrespect.\\n'\n",
      " '    [End news article]\\n'\n",
      " '    If the article is related to the topic, return a summary of the article '\n",
      " 'related to the given topic.\\n'\n",
      " '    Answer in the most factual way possible. Only use content from the '\n",
      " 'article.\\n'\n",
      " '    Please return the result in json using the following keys :\\n'\n",
      " '    \"relevant\"\\n'\n",
      " '    \"who\"\\n'\n",
      " '    \"what\"\\n'\n",
      " '    \"where\"\\n'\n",
      " '    \"when\"\\n'\n",
      " '    \"why\"\\n'\n",
      " '    If the article is not related return : \"relevant\" : false\\n'\n",
      " '    Answer:')\n"
     ]
    }
   ],
   "source": [
    "pp.pprint(injected_prompt.text)"
   ]
  },
  {
   "cell_type": "code",
   "execution_count": null,
   "metadata": {},
   "outputs": [
    {
     "name": "stdout",
     "output_type": "stream",
     "text": [
      "('Here is the JSON response:\\n'\n",
      " '\\n'\n",
      " '{\\n'\n",
      " '\"relevant\": true,\\n'\n",
      " '\"who\": \"Mohammed Siraj\",\\n'\n",
      " '\"What\": \"dominance in IPL 2025\",\\n'\n",
      " '\"where\": \"Gujarat Titans, Sunrisers Hyderabad, and Wankhede Stadium\",\\n'\n",
      " '\"When\": \"Ongoing edition of IPL 2025\",\\n'\n",
      " '\"Why\": \"Siraj\\'s impressive swing bowling and tenacity\",\\n'\n",
      " '\"Extra info\": \"Siraj was praised by Navjot Singh Sidhu and has been '\n",
      " 'instrumental in quelling Sunrisers Hyderabad\\'s batting lineup.\"\\n'\n",
      " '}\\n'\n",
      " '\\n'\n",
      " 'Note: The article is related to the topic \"IPL 2025\" as it discusses '\n",
      " \"Mohammed Siraj's performance in the ongoing edition of the Indian Premier \"\n",
      " 'League (IPL) 2025.')\n"
     ]
    }
   ],
   "source": [
    "pp.pprint(answer.content)"
   ]
  },
  {
   "cell_type": "code",
   "execution_count": null,
   "metadata": {},
   "outputs": [],
   "source": []
  }
 ],
 "metadata": {
  "kernelspec": {
   "display_name": "langenv",
   "language": "python",
   "name": "python3"
  },
  "language_info": {
   "codemirror_mode": {
    "name": "ipython",
    "version": 3
   },
   "file_extension": ".py",
   "mimetype": "text/x-python",
   "name": "python",
   "nbconvert_exporter": "python",
   "pygments_lexer": "ipython3",
   "version": "3.9.21"
  }
 },
 "nbformat": 4,
 "nbformat_minor": 2
}
