{
 "cells": [
  {
   "cell_type": "markdown",
   "metadata": {},
   "source": [
    "## File summary\n",
    "This is a testbench file for the code used in the other files.\n",
    "\n",
    "The current file contains the following components:\n",
    "* Loading model\n",
    "* News-api testing\n",
    "* Prompt template for summarising articles\n",
    "* Combining model with template and testing\n",
    "\n",
    "\n",
    "\n"
   ]
  },
  {
   "cell_type": "code",
   "execution_count": 5,
   "metadata": {},
   "outputs": [],
   "source": [
    "from dotenv import load_dotenv\n",
    "load_dotenv()\n",
    "\n",
    "import pprint\n",
    "pp = pprint.PrettyPrinter(indent=4)"
   ]
  },
  {
   "cell_type": "code",
   "execution_count": 17,
   "metadata": {},
   "outputs": [],
   "source": [
    "import importlib\n"
   ]
  },
  {
   "cell_type": "markdown",
   "metadata": {},
   "source": [
    "## Loading model"
   ]
  },
  {
   "cell_type": "code",
   "execution_count": 31,
   "metadata": {},
   "outputs": [],
   "source": [
    "from langchain.chat_models import init_chat_model\n",
    "llm = init_chat_model(\"llama3-8b-8192\", model_provider=\"groq\")"
   ]
  },
  {
   "cell_type": "markdown",
   "metadata": {},
   "source": [
    "## News api response"
   ]
  },
  {
   "cell_type": "code",
   "execution_count": 9,
   "metadata": {},
   "outputs": [],
   "source": [
    "# code from news_search_tool.py\n",
    "\n",
    "import requests\n",
    "import os\n",
    "query = 'IPL 2025'\n",
    "url = \"https://newsdata.io/api/1/latest\"\n",
    "params = {\n",
    "    \"q\": query,\n",
    "    \"language\": \"en\",\n",
    "    \"size\": 3,\n",
    "    \"apikey\":os.getenv(\"NEWS_API_KEY\")\n",
    "}\n",
    "response = requests.get(url, params=params)\n",
    "res = response.json()"
   ]
  },
  {
   "cell_type": "code",
   "execution_count": 11,
   "metadata": {},
   "outputs": [
    {
     "data": {
      "text/plain": [
       "\"Ian Bishop engaged in cheeky banter with his commentary colleagues during the ongoing Indian Premier League (IPL) and called some of them extremely 'pro-CSK'.\""
      ]
     },
     "execution_count": 11,
     "metadata": {},
     "output_type": "execute_result"
    }
   ],
   "source": [
    "res['results'][0]['description']"
   ]
  },
  {
   "cell_type": "code",
   "execution_count": 23,
   "metadata": {},
   "outputs": [],
   "source": [
    "imported_module = importlib.import_module(\"news_search_tool\")\n",
    "importlib.reload(imported_module)\n",
    "from news_search_tool import search_news\n",
    "news_data = search_news('IPL 2025')"
   ]
  },
  {
   "cell_type": "code",
   "execution_count": 24,
   "metadata": {},
   "outputs": [
    {
     "name": "stdout",
     "output_type": "stream",
     "text": [
      "('When is Days Gone Remastered coming to PS5? Here’s the lowdown! - Days Gone '\n",
      " 'Remastered is launching on PlayStation 5 on April 25, 2025, with enhanced '\n",
      " 'graphics, lighting, and frame rates. It includes new game modes like Horde '\n",
      " 'Assault, Permadeath, and Speedrun, along with an upgraded photo mode. The '\n",
      " 'remastered version will be available for $49.99, with a $10 upgrade option '\n",
      " 'for PS4 owners.\\n'\n",
      " '<article separator>\\n'\n",
      " \"Max Verstappen Takes Hilarious 'Expensive Lawnmower' Jibe At Lando Norris \"\n",
      " 'After Dramatic Japanese GP Pit Moment | WATCH - Max Verstappen,Lando '\n",
      " 'Norris,Japanese Grand Prix,F1 Pit Lane Incident,Verstappen Norris Close '\n",
      " 'Call,Formula 1,McLaren,Red Bull Racing\\n'\n",
      " '<article separator>\\n'\n",
      " 'IPL 2025: GT pacer Ishant Sharma handed one demerit point; fined 25 per cent '\n",
      " \"of his match fees - Hyderabad Gujarat Titans' seasoned seamer Ishant Sharma \"\n",
      " 'has been handed one demerit point and fined per cent of his match fees after '\n",
      " 'breaching the IPL Code of Conduct during their fixture against Sunrisers '\n",
      " 'Hyderabad on Sunday The Indian Premier League IPL released a statement on '\n",
      " 'Monday confirming that Ishant had admitted to the Level offence under '\n",
      " \"Article and accepted match referee Javagal Srinath's sanction Statement from \"\n",
      " 'the IPL Ishant Sharma Bowler Gujarat Titans has been fined per cent of his '\n",
      " 'match fees and has also accumulated one demerit point for breaching the IPL '\n",
      " \"Code of Conduct during his team's match\")\n"
     ]
    }
   ],
   "source": [
    "pp.pprint(news_data)"
   ]
  },
  {
   "cell_type": "markdown",
   "metadata": {},
   "source": [
    "## Prompt template"
   ]
  },
  {
   "cell_type": "markdown",
   "metadata": {},
   "source": [
    "#### \"fernandoruiz/information_extraction_for_summarization\""
   ]
  },
  {
   "cell_type": "code",
   "execution_count": null,
   "metadata": {},
   "outputs": [
    {
     "name": "stderr",
     "output_type": "stream",
     "text": [
      "c:\\Users\\Admin\\anaconda3\\envs\\langenv\\lib\\site-packages\\langsmith\\client.py:253: LangSmithMissingAPIKeyWarning: API key must be provided when using hosted LangSmith API\n",
      "  warnings.warn(\n"
     ]
    }
   ],
   "source": [
    "# Create a LANGSMITH_API_KEY in Settings > API Keys\n",
    "from langchain import hub\n",
    "\n",
    "prompt = hub.pull(\"fernandoruiz/information_extraction_for_summarization\")\n",
    "\n",
    "# prompt template\n",
    "'''\n",
    "Please identify if the following news article is related to this topic : {topic}.\n",
    "    [Start news article]:\n",
    "    {article}\n",
    "    [End news article]\n",
    "    If the article is related to the topic, return a summary of the article related to the given topic.\n",
    "    Answer in the most factual way possible. Only use content from the article.\n",
    "    Please return the result in json using the following keys :\n",
    "    \"relevant\"\n",
    "    \"who\"\n",
    "    \"what\"\n",
    "    \"where\"\n",
    "    \"when\"\n",
    "    \"why\"\n",
    "    If the article is not related return : \"relevant\" : false\n",
    "    Answer:\n",
    "'''"
   ]
  },
  {
   "cell_type": "markdown",
   "metadata": {},
   "source": [
    "#### Customised version of \"fernandoruiz/information_extraction_for_summarization\""
   ]
  },
  {
   "cell_type": "code",
   "execution_count": 38,
   "metadata": {},
   "outputs": [],
   "source": [
    "from langchain_core.prompts import PromptTemplate\n",
    "\n",
    "prompt_template = PromptTemplate.from_template('''\n",
    "Please identify if the following news articles are related to this topic : {topic}.\n",
    "    [Start news article]:\n",
    "    {article}\n",
    "    [End news article]\n",
    "    If any articles are related to the topic, use only those articles to return a summary related to the given topic.\n",
    "    Answer in the most factual way possible. Only use content from the articles.\n",
    "\n",
    "    Limit the answer only to the summary of the relevant article if available. Do not mention about the articles given as input.\n",
    "    If the articles are not related return : \"Articles not relevant to topic\"\n",
    "    Answer:''')"
   ]
  },
  {
   "cell_type": "code",
   "execution_count": 39,
   "metadata": {},
   "outputs": [],
   "source": [
    "injected_prompt = prompt_template.invoke({\"topic\": \"IPL 2025\", \"article\": news_data})"
   ]
  },
  {
   "cell_type": "code",
   "execution_count": 28,
   "metadata": {},
   "outputs": [
    {
     "name": "stdout",
     "output_type": "stream",
     "text": [
      "('\\n'\n",
      " 'Please identify if the following news articles are related to this topic : '\n",
      " 'IPL 2025.\\n'\n",
      " '    [Start news article]:\\n'\n",
      " '    When is Days Gone Remastered coming to PS5? Here’s the lowdown! - Days '\n",
      " 'Gone Remastered is launching on PlayStation 5 on April 25, 2025, with '\n",
      " 'enhanced graphics, lighting, and frame rates. It includes new game modes '\n",
      " 'like Horde Assault, Permadeath, and Speedrun, along with an upgraded photo '\n",
      " 'mode. The remastered version will be available for $49.99, with a $10 '\n",
      " 'upgrade option for PS4 owners.\\n'\n",
      " '<article separator>\\n'\n",
      " \"Max Verstappen Takes Hilarious 'Expensive Lawnmower' Jibe At Lando Norris \"\n",
      " 'After Dramatic Japanese GP Pit Moment | WATCH - Max Verstappen,Lando '\n",
      " 'Norris,Japanese Grand Prix,F1 Pit Lane Incident,Verstappen Norris Close '\n",
      " 'Call,Formula 1,McLaren,Red Bull Racing\\n'\n",
      " '<article separator>\\n'\n",
      " 'IPL 2025: GT pacer Ishant Sharma handed one demerit point; fined 25 per cent '\n",
      " \"of his match fees - Hyderabad Gujarat Titans' seasoned seamer Ishant Sharma \"\n",
      " 'has been handed one demerit point and fined per cent of his match fees after '\n",
      " 'breaching the IPL Code of Conduct during their fixture against Sunrisers '\n",
      " 'Hyderabad on Sunday The Indian Premier League IPL released a statement on '\n",
      " 'Monday confirming that Ishant had admitted to the Level offence under '\n",
      " \"Article and accepted match referee Javagal Srinath's sanction Statement from \"\n",
      " 'the IPL Ishant Sharma Bowler Gujarat Titans has been fined per cent of his '\n",
      " 'match fees and has also accumulated one demerit point for breaching the IPL '\n",
      " \"Code of Conduct during his team's match\\n\"\n",
      " '    [End news article]\\n'\n",
      " '    If any articles are related to the topic, use only those articles to '\n",
      " 'return a summary related to the given topic.\\n'\n",
      " '    Answer in the most factual way possible. Only use content from the '\n",
      " 'articles.\\n'\n",
      " '    If the article is not related return : \"Articles not relevant to topic\"\\n'\n",
      " '    Answer:')\n"
     ]
    }
   ],
   "source": [
    "pp.pprint(injected_prompt.text)"
   ]
  },
  {
   "cell_type": "markdown",
   "metadata": {},
   "source": [
    "## Combining prompt with model and testing"
   ]
  },
  {
   "cell_type": "code",
   "execution_count": 40,
   "metadata": {},
   "outputs": [
    {
     "data": {
      "text/plain": [
       "AIMessage(content=\"The articles are related to the topic IPL 2025. Here is a summary:\\n\\nGujarat Titans' pacer Ishant Sharma has been handed one demerit point and fined 25% of his match fees for breaching the IPL Code of Conduct during their match against Sunrisers Hyderabad.\", additional_kwargs={}, response_metadata={'token_usage': {'completion_tokens': 62, 'prompt_tokens': 443, 'total_tokens': 505, 'completion_time': 0.051666667, 'prompt_time': 0.082855856, 'queue_time': 0.158819703, 'total_time': 0.134522523}, 'model_name': 'llama3-8b-8192', 'system_fingerprint': 'fp_a97cfe35ae', 'finish_reason': 'stop', 'logprobs': None}, id='run-2175bdf1-0a71-4ab9-a0d1-6a6e9abed62a-0', usage_metadata={'input_tokens': 443, 'output_tokens': 62, 'total_tokens': 505})"
      ]
     },
     "execution_count": 40,
     "metadata": {},
     "output_type": "execute_result"
    }
   ],
   "source": [
    "# injects the 'topic' and 'article' into the prompt\n",
    "# injected_prompt = prompt.invoke({\"topic\": \"IPL 2025\", \"article\": news_data})\n",
    "\n",
    "# invokes the model with the injected prompt \n",
    "answer = llm.invoke(injected_prompt)\n",
    "answer"
   ]
  },
  {
   "cell_type": "code",
   "execution_count": 41,
   "metadata": {},
   "outputs": [
    {
     "name": "stdout",
     "output_type": "stream",
     "text": [
      "('The articles are related to the topic IPL 2025. Here is a summary:\\n'\n",
      " '\\n'\n",
      " \"Gujarat Titans' pacer Ishant Sharma has been handed one demerit point and \"\n",
      " 'fined 25% of his match fees for breaching the IPL Code of Conduct during '\n",
      " 'their match against Sunrisers Hyderabad.')\n"
     ]
    }
   ],
   "source": [
    "pp.pprint(answer.content)"
   ]
  },
  {
   "cell_type": "code",
   "execution_count": null,
   "metadata": {},
   "outputs": [],
   "source": []
  }
 ],
 "metadata": {
  "kernelspec": {
   "display_name": "langenv",
   "language": "python",
   "name": "python3"
  },
  "language_info": {
   "codemirror_mode": {
    "name": "ipython",
    "version": 3
   },
   "file_extension": ".py",
   "mimetype": "text/x-python",
   "name": "python",
   "nbconvert_exporter": "python",
   "pygments_lexer": "ipython3",
   "version": "3.9.21"
  }
 },
 "nbformat": 4,
 "nbformat_minor": 2
}
